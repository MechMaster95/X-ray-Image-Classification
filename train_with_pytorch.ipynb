{
 "cells": [
  {
   "cell_type": "code",
   "execution_count": null,
   "metadata": {},
   "outputs": [],
   "source": [
    "from fastai.conv_learner import *\n",
    "from fastai.plots import *\n",
    "from planet import fbeta_score\n",
    "from fastai.models import *\n",
    "PATH='data/xrays' #Data is stored in XRays folder (subset) or XRays-Full (full dataset)\n",
    "!ls {PATH}\n",
    "!ls {PATH}/models"
   ]
  },
  {
   "cell_type": "code",
   "execution_count": null,
   "metadata": {},
   "outputs": [],
   "source": [
    "label_csv = f'{PATH}/two.csv' #two.csv or two_ns.csv\n",
    "n = len(list(open(label_csv)))-1\n",
    "val_idxs = get_cv_idxs(n)"
   ]
  },
  {
   "cell_type": "code",
   "execution_count": null,
   "metadata": {},
   "outputs": [],
   "source": [
    "arch=dn121 #or resnet18, resnet34, inceptionv4, resnext101_64, dn121, wrn\n",
    "sz=224 #Image size (224 or 299)\n",
    "bs=32\n",
    "tfms = tfms_from_model(arch, sz, max_zoom=1.05, aug_tfms=transforms_basic)"
   ]
  },
  {
   "cell_type": "code",
   "execution_count": null,
   "metadata": {},
   "outputs": [],
   "source": [
    "data = ImageClassifierData.from_csv(PATH, 'images', label_csv, bs=bs, val_idxs=val_idxs, tfms=tfms, skip_header=True)\n",
    "data.classes"
   ]
  },
  {
   "cell_type": "code",
   "execution_count": null,
   "metadata": {},
   "outputs": [],
   "source": [
    "#data.trn_ds"
   ]
  },
  {
   "cell_type": "code",
   "execution_count": null,
   "metadata": {},
   "outputs": [],
   "source": [
    "#Show one image (to ensure they've loaded properly)\n",
    "#x,y = next(iter(data.val_dl))\n",
    "#plt.imshow(data.val_ds.denorm(to_np(x))[1]);"
   ]
  },
  {
   "cell_type": "code",
   "execution_count": null,
   "metadata": {},
   "outputs": [],
   "source": [
    "# Set up learner, Precompute activations\n",
    "data = data.resize(sz, 'tmp') #(optional) resize images\n",
    "learn = ConvLearner.pretrained(arch, data, precompute=True) #Load learner, pre-compute activations\n",
    "print(data.classes)\n",
    "weights = [60,1] # (optional) - assign class weights\n",
    "class_weights = torch.FloatTensor(weights).cuda() # (optional)\n",
    "learn.crit = nn.CrossEntropyLoss(weight=class_weights) # (optional)"
   ]
  },
  {
   "cell_type": "code",
   "execution_count": null,
   "metadata": {},
   "outputs": [],
   "source": [
    "# Determine ideal learning rate\n",
    "learn.freeze()\n",
    "lrf=learn.lr_find()\n",
    "learn.sched.plot()"
   ]
  },
  {
   "cell_type": "code",
   "execution_count": null,
   "metadata": {},
   "outputs": [],
   "source": [
    "# Train fully-connected layer at end (rest is frozen)\n",
    "\n",
    "lr = .01\n",
    "learn.freeze()\n",
    "learn.fit(lr, 5, cycle_len=1, cycle_mult=2)"
   ]
  },
  {
   "cell_type": "code",
   "execution_count": null,
   "metadata": {
    "scrolled": true
   },
   "outputs": [],
   "source": [
    "# perform test-time augmentation, generate confusion matrix\n",
    "learn.freeze()\n",
    "log_preds,y = learn.TTA()\n",
    "probs = np.mean(np.exp(log_preds),0)\n",
    "preds = np.argmax(probs, axis=1)\n",
    "probs = probs[:,1]\n",
    "print(\"Baseline accuracy: {}\".format(y.mean()))\n",
    "cm = confusion_matrix(y, preds)\n",
    "plot_confusion_matrix(cm, data.classes)"
   ]
  },
  {
   "cell_type": "code",
   "execution_count": null,
   "metadata": {},
   "outputs": [],
   "source": [
    "# Save model as-is\n",
    "learn.save(f'two_cats_{sz}_wrn_partial_60_L17')"
   ]
  },
  {
   "cell_type": "code",
   "execution_count": null,
   "metadata": {},
   "outputs": [],
   "source": [
    "\n",
    "# Train full model (unfreeze)\n",
    "lr = 0.01\n",
    "lrs = [lr/9, lr/3, lr]\n",
    "learn.unfreeze()\n",
    "learn.fit(lrs, 5, cycle_len=1, cycle_mult=2)"
   ]
  },
  {
   "cell_type": "code",
   "execution_count": null,
   "metadata": {},
   "outputs": [],
   "source": [
    "# Generate another confusion matrix\n",
    "log_preds,y = learn.TTA()\n",
    "probs = np.mean(np.exp(log_preds),0)\n",
    "preds = np.argmax(probs, axis=1)\n",
    "probs = probs[:,1]\n",
    "cm = confusion_matrix(y, preds)\n",
    "with open('fff.txt', 'w+') as f:\n",
    "    f.write(str(cm))\n",
    "    \n",
    "#print(\"Baseline accuracy: {}\".format(y.mean()))\n",
    "#print(\"test set accuracy: {}\".format(accuracy_np(probs, y)))\n",
    "plot_confusion_matrix(cm, data.classes)"
   ]
  },
  {
   "cell_type": "code",
   "execution_count": null,
   "metadata": {},
   "outputs": [],
   "source": [
    "#Save final model\n",
    "learn.save(f'two_cats_{sz}_unfrozen__dn121_60_sample_BB')"
   ]
  },
  {
   "cell_type": "code",
   "execution_count": null,
   "metadata": {},
   "outputs": [],
   "source": []
  },
  {
   "cell_type": "code",
   "execution_count": null,
   "metadata": {},
   "outputs": [],
   "source": []
  },
  {
   "cell_type": "code",
   "execution_count": null,
   "metadata": {},
   "outputs": [],
   "source": []
  },
  {
   "cell_type": "code",
   "execution_count": null,
   "metadata": {},
   "outputs": [],
   "source": [
    "\n"
   ]
  },
  {
   "cell_type": "code",
   "execution_count": null,
   "metadata": {},
   "outputs": [],
   "source": []
  },
  {
   "cell_type": "code",
   "execution_count": null,
   "metadata": {},
   "outputs": [],
   "source": []
  }
 ],
 "metadata": {
  "kernelspec": {
   "display_name": "Python 3",
   "language": "python",
   "name": "python3"
  },
  "language_info": {
   "codemirror_mode": {
    "name": "ipython",
    "version": 3
   },
   "file_extension": ".py",
   "mimetype": "text/x-python",
   "name": "python",
   "nbconvert_exporter": "python",
   "pygments_lexer": "ipython3",
   "version": "3.6.6"
  }
 },
 "nbformat": 4,
 "nbformat_minor": 2
}
